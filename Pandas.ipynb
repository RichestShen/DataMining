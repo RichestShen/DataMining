{
 "cells": [
  {
   "cell_type": "code",
   "execution_count": 12,
   "metadata": {},
   "outputs": [],
   "source": [
    "from DataImporter import *"
   ]
  },
  {
   "cell_type": "markdown",
   "metadata": {},
   "source": [
    "# `Pandas`\n",
    "\n",
    "`Pandas` = panel data analysis\n",
    "\n",
    "> 便捷的数据处理能力\n",
    "\n",
    "> 读取文件方便\n",
    "\n",
    "> 封装了 `Matplotlib`, `Numpy` 的画图和计算\n",
    "\n",
    "核心数据结构\n",
    "\n",
    "> `DataFrame`\n",
    "\n",
    "> `Pannel`\n",
    "\n",
    "> `Series`"
   ]
  },
  {
   "cell_type": "markdown",
   "metadata": {},
   "source": [
    "## `DataFrame`\n",
    "\n",
    "具有行索引和列索引.\n",
    "\n",
    "常用属性: `shape`, `index`, `columns`, `values`, `T`\n",
    "\n",
    "常用方法: `head()`, `tail()`\n"
   ]
  },
  {
   "cell_type": "code",
   "execution_count": 13,
   "metadata": {},
   "outputs": [
    {
     "name": "stdout",
     "output_type": "stream",
     "text": [
      "       2023-08-07  2023-08-08  2023-08-09  2023-08-10  2023-08-11\n",
      "股票 1     1.946574    0.409687   -0.100292   -1.272934    0.611204\n",
      "股票 2    -0.663842    0.102502   -0.606515    0.981038   -0.357988\n",
      "股票 3    -1.000297    0.873605    0.369108   -0.284003    1.027945\n",
      "股票 4    -0.533987   -0.231645   -1.189831    1.253064    0.294156\n",
      "股票 5    -1.215649   -1.102527   -0.255376   -0.087438   -0.843012\n",
      "股票 6     0.379171    0.903017    1.020673   -0.458889    1.076235\n",
      "股票 7    -0.983578    2.046805    0.110829    1.158055   -0.498641\n",
      "股票 8     0.727974    1.687082   -0.023841   -1.083508   -0.824306\n",
      "股票 9    -0.721956   -0.135337    1.825445   -1.401161   -2.135257\n",
      "股票 10   -1.841923    0.684784    0.238012   -0.154725   -0.906913\n"
     ]
    }
   ],
   "source": [
    "stock_exchange = np.random.normal(0, 1, (10, 5))\n",
    "\n",
    "# 添加行索引\n",
    "stock = [f'股票 {i}' for i in range(1, 11)]\n",
    "# 添加列索引\n",
    "date = pd.date_range(start='20230805', periods=5, freq='B')\n",
    "data = DataFrame(stock_exchange, index=stock, columns=date)\n",
    "print(data)"
   ]
  },
  {
   "cell_type": "markdown",
   "metadata": {},
   "source": [
    "`DataFrame` 索引设置\n",
    "\n",
    "`pandas` 不能单独修改一个索引."
   ]
  },
  {
   "cell_type": "code",
   "execution_count": 14,
   "metadata": {},
   "outputs": [],
   "source": [
    "stock = [f'股票-{i}' for i in range(1, 11)]\n",
    "data.index = stock\n",
    "data.reset_index(drop=True)  # drop=True 把之前的索引删除\n",
    "\n",
    "df = DataFrame({\n",
    "    'month': [1, 4, 7, 10],\n",
    "    'year': [2012, 2014, 2013, 2014],\n",
    "    'sale':[55, 40, 84, 31]\n",
    "})\n",
    "df.set_index('month', drop=True)\n",
    "new_df = df.set_index([\"year\", \"month\"])"
   ]
  },
  {
   "cell_type": "markdown",
   "metadata": {},
   "source": [
    "## `MultiIndex`\n",
    "\n",
    "多级索引对象"
   ]
  },
  {
   "cell_type": "code",
   "execution_count": 15,
   "metadata": {},
   "outputs": [
    {
     "name": "stdout",
     "output_type": "stream",
     "text": [
      "MultiIndex([(2012,  1),\n",
      "            (2014,  4),\n",
      "            (2013,  7),\n",
      "            (2014, 10)],\n",
      "           names=['year', 'month'])\n",
      "['year', 'month']\n",
      "[[2012, 2013, 2014], [1, 4, 7, 10]]\n"
     ]
    }
   ],
   "source": [
    "print(new_df.index)\n",
    "print(new_df.index.names)\n",
    "print(new_df.index.levels)"
   ]
  },
  {
   "cell_type": "markdown",
   "metadata": {},
   "source": [
    "## `Series`\n",
    "\n",
    "带索引的一维数组\n",
    "\n",
    "属性\n",
    "\n",
    "`index`\n",
    "\n",
    "`values`: 一维数组 `ndarrary`\n",
    "\n"
   ]
  },
  {
   "cell_type": "code",
   "execution_count": 16,
   "metadata": {},
   "outputs": [
    {
     "data": {
      "text/plain": [
       "a    3\n",
       "b    5\n",
       "c    7\n",
       "dtype: int32"
      ]
     },
     "execution_count": 16,
     "metadata": {},
     "output_type": "execute_result"
    }
   ],
   "source": [
    "Series(np.arange(3, 9, 2), index=['a', 'b', 'c'])\n"
   ]
  },
  {
   "cell_type": "markdown",
   "metadata": {},
   "source": [
    "## 基本数据操作\n",
    "\n",
    "### 索引\n",
    "\n",
    "1. 直接索引 (**先列后行**)\n",
    "\n",
    "2. 按名字索引 `loc`\n",
    "\n",
    "3. 按数字索引 `iloc`\n",
    "\n",
    "4. 组合索引 `ix` (已经过时)"
   ]
  },
  {
   "cell_type": "code",
   "execution_count": 26,
   "metadata": {},
   "outputs": [
    {
     "data": {
      "text/plain": [
       "22.8"
      ]
     },
     "execution_count": 26,
     "metadata": {},
     "output_type": "execute_result"
    }
   ],
   "source": [
    "data = pd.read_csv('src/stock_day.csv')\n",
    "\n",
    "data['open']['2018-02-26']\n",
    "data.loc['2018-02-26', 'open']\n",
    "data.iloc[1, 0]"
   ]
  },
  {
   "cell_type": "markdown",
   "metadata": {},
   "source": [
    "### 赋值"
   ]
  },
  {
   "cell_type": "code",
   "execution_count": 27,
   "metadata": {},
   "outputs": [],
   "source": [
    "data.open = 100\n",
    "data.iloc[1, 0] = 222"
   ]
  },
  {
   "cell_type": "markdown",
   "metadata": {},
   "source": [
    "### 排序\n",
    "\n",
    "对内容排序: `sort_values(key=, ascending=)`\n",
    "\n",
    "`key`: 按一个或多个键排序\n",
    "\n",
    "`ascending`: 默认升序, `False` 降序\n",
    "\n",
    "对索引排序: `sort_index()`"
   ]
  },
  {
   "cell_type": "code",
   "execution_count": 30,
   "metadata": {},
   "outputs": [
    {
     "data": {
      "text/html": [
       "<div>\n",
       "<style scoped>\n",
       "    .dataframe tbody tr th:only-of-type {\n",
       "        vertical-align: middle;\n",
       "    }\n",
       "\n",
       "    .dataframe tbody tr th {\n",
       "        vertical-align: top;\n",
       "    }\n",
       "\n",
       "    .dataframe thead th {\n",
       "        text-align: right;\n",
       "    }\n",
       "</style>\n",
       "<table border=\"1\" class=\"dataframe\">\n",
       "  <thead>\n",
       "    <tr style=\"text-align: right;\">\n",
       "      <th></th>\n",
       "      <th>open</th>\n",
       "      <th>high</th>\n",
       "      <th>close</th>\n",
       "      <th>low</th>\n",
       "      <th>volume</th>\n",
       "      <th>price_change</th>\n",
       "      <th>p_change</th>\n",
       "      <th>ma5</th>\n",
       "      <th>ma10</th>\n",
       "      <th>ma20</th>\n",
       "      <th>v_ma5</th>\n",
       "      <th>v_ma10</th>\n",
       "      <th>v_ma20</th>\n",
       "      <th>turnover</th>\n",
       "    </tr>\n",
       "  </thead>\n",
       "  <tbody>\n",
       "    <tr>\n",
       "      <th>2015-03-02</th>\n",
       "      <td>100</td>\n",
       "      <td>12.67</td>\n",
       "      <td>12.52</td>\n",
       "      <td>12.20</td>\n",
       "      <td>96291.73</td>\n",
       "      <td>0.32</td>\n",
       "      <td>2.62</td>\n",
       "      <td>12.520</td>\n",
       "      <td>12.520</td>\n",
       "      <td>12.520</td>\n",
       "      <td>96291.73</td>\n",
       "      <td>96291.73</td>\n",
       "      <td>96291.73</td>\n",
       "      <td>3.30</td>\n",
       "    </tr>\n",
       "    <tr>\n",
       "      <th>2015-03-03</th>\n",
       "      <td>100</td>\n",
       "      <td>13.06</td>\n",
       "      <td>12.70</td>\n",
       "      <td>12.52</td>\n",
       "      <td>139071.61</td>\n",
       "      <td>0.18</td>\n",
       "      <td>1.44</td>\n",
       "      <td>12.610</td>\n",
       "      <td>12.610</td>\n",
       "      <td>12.610</td>\n",
       "      <td>117681.67</td>\n",
       "      <td>117681.67</td>\n",
       "      <td>117681.67</td>\n",
       "      <td>4.76</td>\n",
       "    </tr>\n",
       "    <tr>\n",
       "      <th>2015-03-04</th>\n",
       "      <td>100</td>\n",
       "      <td>12.92</td>\n",
       "      <td>12.90</td>\n",
       "      <td>12.61</td>\n",
       "      <td>67075.44</td>\n",
       "      <td>0.20</td>\n",
       "      <td>1.57</td>\n",
       "      <td>12.707</td>\n",
       "      <td>12.707</td>\n",
       "      <td>12.707</td>\n",
       "      <td>100812.93</td>\n",
       "      <td>100812.93</td>\n",
       "      <td>100812.93</td>\n",
       "      <td>2.30</td>\n",
       "    </tr>\n",
       "    <tr>\n",
       "      <th>2015-03-05</th>\n",
       "      <td>100</td>\n",
       "      <td>13.45</td>\n",
       "      <td>13.16</td>\n",
       "      <td>12.87</td>\n",
       "      <td>93180.39</td>\n",
       "      <td>0.26</td>\n",
       "      <td>2.02</td>\n",
       "      <td>12.820</td>\n",
       "      <td>12.820</td>\n",
       "      <td>12.820</td>\n",
       "      <td>98904.79</td>\n",
       "      <td>98904.79</td>\n",
       "      <td>98904.79</td>\n",
       "      <td>3.19</td>\n",
       "    </tr>\n",
       "    <tr>\n",
       "      <th>2015-03-06</th>\n",
       "      <td>100</td>\n",
       "      <td>14.48</td>\n",
       "      <td>14.28</td>\n",
       "      <td>13.13</td>\n",
       "      <td>179831.72</td>\n",
       "      <td>1.12</td>\n",
       "      <td>8.51</td>\n",
       "      <td>13.112</td>\n",
       "      <td>13.112</td>\n",
       "      <td>13.112</td>\n",
       "      <td>115090.18</td>\n",
       "      <td>115090.18</td>\n",
       "      <td>115090.18</td>\n",
       "      <td>6.16</td>\n",
       "    </tr>\n",
       "    <tr>\n",
       "      <th>...</th>\n",
       "      <td>...</td>\n",
       "      <td>...</td>\n",
       "      <td>...</td>\n",
       "      <td>...</td>\n",
       "      <td>...</td>\n",
       "      <td>...</td>\n",
       "      <td>...</td>\n",
       "      <td>...</td>\n",
       "      <td>...</td>\n",
       "      <td>...</td>\n",
       "      <td>...</td>\n",
       "      <td>...</td>\n",
       "      <td>...</td>\n",
       "      <td>...</td>\n",
       "    </tr>\n",
       "    <tr>\n",
       "      <th>2018-02-14</th>\n",
       "      <td>100</td>\n",
       "      <td>21.99</td>\n",
       "      <td>21.92</td>\n",
       "      <td>21.48</td>\n",
       "      <td>23331.04</td>\n",
       "      <td>0.44</td>\n",
       "      <td>2.05</td>\n",
       "      <td>21.366</td>\n",
       "      <td>21.923</td>\n",
       "      <td>23.253</td>\n",
       "      <td>33590.21</td>\n",
       "      <td>42935.74</td>\n",
       "      <td>61716.11</td>\n",
       "      <td>0.58</td>\n",
       "    </tr>\n",
       "    <tr>\n",
       "      <th>2018-02-22</th>\n",
       "      <td>100</td>\n",
       "      <td>22.76</td>\n",
       "      <td>22.28</td>\n",
       "      <td>22.02</td>\n",
       "      <td>36105.01</td>\n",
       "      <td>0.36</td>\n",
       "      <td>1.64</td>\n",
       "      <td>21.446</td>\n",
       "      <td>21.909</td>\n",
       "      <td>23.137</td>\n",
       "      <td>35397.58</td>\n",
       "      <td>39904.78</td>\n",
       "      <td>60149.60</td>\n",
       "      <td>0.90</td>\n",
       "    </tr>\n",
       "    <tr>\n",
       "      <th>2018-02-23</th>\n",
       "      <td>100</td>\n",
       "      <td>23.37</td>\n",
       "      <td>22.82</td>\n",
       "      <td>22.71</td>\n",
       "      <td>52914.01</td>\n",
       "      <td>0.54</td>\n",
       "      <td>2.42</td>\n",
       "      <td>21.938</td>\n",
       "      <td>21.929</td>\n",
       "      <td>23.022</td>\n",
       "      <td>35119.58</td>\n",
       "      <td>41871.97</td>\n",
       "      <td>56372.85</td>\n",
       "      <td>1.32</td>\n",
       "    </tr>\n",
       "    <tr>\n",
       "      <th>2018-02-26</th>\n",
       "      <td>222</td>\n",
       "      <td>23.78</td>\n",
       "      <td>23.53</td>\n",
       "      <td>22.80</td>\n",
       "      <td>60985.11</td>\n",
       "      <td>0.69</td>\n",
       "      <td>3.02</td>\n",
       "      <td>22.406</td>\n",
       "      <td>21.955</td>\n",
       "      <td>22.942</td>\n",
       "      <td>40827.52</td>\n",
       "      <td>42736.34</td>\n",
       "      <td>56007.50</td>\n",
       "      <td>1.53</td>\n",
       "    </tr>\n",
       "    <tr>\n",
       "      <th>2018-02-27</th>\n",
       "      <td>100</td>\n",
       "      <td>25.88</td>\n",
       "      <td>24.16</td>\n",
       "      <td>23.53</td>\n",
       "      <td>95578.03</td>\n",
       "      <td>0.63</td>\n",
       "      <td>2.68</td>\n",
       "      <td>22.942</td>\n",
       "      <td>22.142</td>\n",
       "      <td>22.875</td>\n",
       "      <td>53782.64</td>\n",
       "      <td>46738.65</td>\n",
       "      <td>55576.11</td>\n",
       "      <td>2.39</td>\n",
       "    </tr>\n",
       "  </tbody>\n",
       "</table>\n",
       "<p>643 rows × 14 columns</p>\n",
       "</div>"
      ],
      "text/plain": [
       "            open   high  close    low     volume  price_change  p_change  \\\n",
       "2015-03-02   100  12.67  12.52  12.20   96291.73          0.32      2.62   \n",
       "2015-03-03   100  13.06  12.70  12.52  139071.61          0.18      1.44   \n",
       "2015-03-04   100  12.92  12.90  12.61   67075.44          0.20      1.57   \n",
       "2015-03-05   100  13.45  13.16  12.87   93180.39          0.26      2.02   \n",
       "2015-03-06   100  14.48  14.28  13.13  179831.72          1.12      8.51   \n",
       "...          ...    ...    ...    ...        ...           ...       ...   \n",
       "2018-02-14   100  21.99  21.92  21.48   23331.04          0.44      2.05   \n",
       "2018-02-22   100  22.76  22.28  22.02   36105.01          0.36      1.64   \n",
       "2018-02-23   100  23.37  22.82  22.71   52914.01          0.54      2.42   \n",
       "2018-02-26   222  23.78  23.53  22.80   60985.11          0.69      3.02   \n",
       "2018-02-27   100  25.88  24.16  23.53   95578.03          0.63      2.68   \n",
       "\n",
       "               ma5    ma10    ma20      v_ma5     v_ma10     v_ma20  turnover  \n",
       "2015-03-02  12.520  12.520  12.520   96291.73   96291.73   96291.73      3.30  \n",
       "2015-03-03  12.610  12.610  12.610  117681.67  117681.67  117681.67      4.76  \n",
       "2015-03-04  12.707  12.707  12.707  100812.93  100812.93  100812.93      2.30  \n",
       "2015-03-05  12.820  12.820  12.820   98904.79   98904.79   98904.79      3.19  \n",
       "2015-03-06  13.112  13.112  13.112  115090.18  115090.18  115090.18      6.16  \n",
       "...            ...     ...     ...        ...        ...        ...       ...  \n",
       "2018-02-14  21.366  21.923  23.253   33590.21   42935.74   61716.11      0.58  \n",
       "2018-02-22  21.446  21.909  23.137   35397.58   39904.78   60149.60      0.90  \n",
       "2018-02-23  21.938  21.929  23.022   35119.58   41871.97   56372.85      1.32  \n",
       "2018-02-26  22.406  21.955  22.942   40827.52   42736.34   56007.50      1.53  \n",
       "2018-02-27  22.942  22.142  22.875   53782.64   46738.65   55576.11      2.39  \n",
       "\n",
       "[643 rows x 14 columns]"
      ]
     },
     "execution_count": 30,
     "metadata": {},
     "output_type": "execute_result"
    }
   ],
   "source": [
    "data.sort_values(by='high', ascending=False)  # 按最高价从大到小排列\n",
    "\n",
    "data.sort_index()  # 对索引进行排序"
   ]
  },
  {
   "cell_type": "markdown",
   "metadata": {},
   "source": [
    "### `DataFrame` 运算\n",
    "\n",
    "算术运算 `add`, `sub`\n",
    "\n",
    "逻辑运算符 `<`, `>`, `|`, `&`\n",
    "\n",
    "逻辑运算函数 \n",
    "\n",
    "`query(expr)`: 查询字符串\n",
    "\n",
    "`isin(values)`\n",
    "\n",
    "统计运算 `describe()`: 直接得出 `count`, `mean`, `std` 等统计量.\n",
    "\n",
    "`cumsum()`: 前 $n$ 个数之和\n",
    "\n",
    "`cummax()`: 前 $n$ 个数的最大值\n",
    "\n",
    "`cummin()`: 前 $n$ 个数的最小值\n",
    "\n",
    "`cumprod()`: 前 $n$ 个数的积"
   ]
  },
  {
   "cell_type": "code",
   "execution_count": 38,
   "metadata": {},
   "outputs": [
    {
     "data": {
      "text/plain": [
       "<Axes: >"
      ]
     },
     "execution_count": 38,
     "metadata": {},
     "output_type": "execute_result"
    },
    {
     "data": {
      "image/png": "[encoded data removed]",
      "text/plain": [
       "<Figure size 640x480 with 1 Axes>"
      ]
     },
     "metadata": {},
     "output_type": "display_data"
    }
   ],
   "source": [
    "data['open'].add(3).head()\n",
    "data.sub(100).head()\n",
    "data[data['p_change'] > 2]\n",
    "data.query('p_change > 2 & low > 15')\n",
    "data['turnover'].isin([4.19, 2.39])\n",
    "data.describe()\n",
    "data['p_change'].sort_index().cumsum().plot()"
   ]
  },
  {
   "cell_type": "markdown",
   "metadata": {},
   "source": [
    "### 自定义运算\n",
    "\n",
    "`apply(func, axis=0)`\n",
    "\n",
    "`func`: 自定义的函数\n",
    "\n",
    "`axis`: 行/列, 默认按列, `axis=1` 进行行运算."
   ]
  },
  {
   "cell_type": "code",
   "execution_count": 39,
   "metadata": {},
   "outputs": [
    {
     "data": {
      "text/plain": [
       "open               122.000\n",
       "high                23.680\n",
       "close               22.850\n",
       "low                 21.810\n",
       "volume          500757.290\n",
       "price_change         6.550\n",
       "p_change            20.060\n",
       "ma5                 21.176\n",
       "ma10                19.666\n",
       "ma20                17.478\n",
       "v_ma5           393638.800\n",
       "v_ma10          340897.650\n",
       "v_ma20          245969.790\n",
       "turnover            12.520\n",
       "dtype: float64"
      ]
     },
     "execution_count": 39,
     "metadata": {},
     "output_type": "execute_result"
    }
   ],
   "source": [
    "data.apply(lambda x: x.max() - x.min())"
   ]
  },
  {
   "cell_type": "markdown",
   "metadata": {},
   "source": [
    "### `Pandas` 绘图\n",
    "\n",
    "`DataFrame.plot(x=None, y=None, kind='line')`\n",
    "\n",
    "`x`: label or position, default None\n",
    "\n",
    "`y`: label, position or list of label, positions, default None\n",
    "\n",
    "`kind`: `line`, `bar`, `barh`, `hist`, `pie`, `scatter`\n"
   ]
  },
  {
   "cell_type": "code",
   "execution_count": 42,
   "metadata": {},
   "outputs": [
    {
     "data": {
      "text/plain": [
       "<Axes: xlabel='volume', ylabel='turnover'>"
      ]
     },
     "execution_count": 42,
     "metadata": {},
     "output_type": "execute_result"
    },
    {
     "data": {
      "image/png": "[encoded data removed]",
      "text/plain": [
       "<Figure size 640x480 with 1 Axes>"
      ]
     },
     "metadata": {},
     "output_type": "display_data"
    }
   ],
   "source": [
    "data.plot(x='volume', y='turnover', kind='scatter')"
   ]
  },
  {
   "cell_type": "markdown",
   "metadata": {},
   "source": [
    "### 文件读取与存储\n",
    "\n",
    "支持类型: `csv`, `json`, `html`, `clipboard`, `excel`, `hdf`, `sql`, ...\n",
    "\n",
    "`pd.read_csv(path=, usecols=[], ...)` 依此类推, 详见 api."
   ]
  }
 ],
 "metadata": {
  "kernelspec": {
   "display_name": "ML",
   "language": "python",
   "name": "python3"
  },
  "language_info": {
   "codemirror_mode": {
    "name": "ipython",
    "version": 3
   },
   "file_extension": ".py",
   "mimetype": "text/x-python",
   "name": "python",
   "nbconvert_exporter": "python",
   "pygments_lexer": "ipython3",
   "version": "3.9.17"
  },
  "orig_nbformat": 4
 },
 "nbformat": 4,
 "nbformat_minor": 2
}
